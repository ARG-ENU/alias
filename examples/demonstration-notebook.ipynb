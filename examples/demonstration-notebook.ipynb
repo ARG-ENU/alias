{
 "cells": [
  {
   "cell_type": "markdown",
   "metadata": {},
   "source": [
    "# Welcome to the ALIAS Demonstration Notebook!\n",
    "This Ipython Notebook aims to demonstrate the key functionality of the ALIAS library."
   ]
  },
  {
   "cell_type": "markdown",
   "metadata": {},
   "source": [
    "First, import the library and create a blank abstract argumentation framework:"
   ]
  },
  {
   "cell_type": "code",
   "execution_count": 1,
   "metadata": {
    "collapsed": false
   },
   "outputs": [],
   "source": [
    "import alias as al\n",
    "example = al.ArgumentationFramework('Example')"
   ]
  },
  {
   "cell_type": "markdown",
   "metadata": {},
   "source": [
    "Lets add a few arguments to the framework we've called 'Example':"
   ]
  },
  {
   "cell_type": "code",
   "execution_count": 2,
   "metadata": {
    "collapsed": true
   },
   "outputs": [],
   "source": [
    "example.add_argument('a')\n",
    "example.add_argument('b')\n",
    "example.add_argument('c')\n",
    "# Arguments can also be passed as a list or tuple\n",
    "# e.g: example.add_argument(['a','b,'c'])"
   ]
  },
  {
   "cell_type": "markdown",
   "metadata": {},
   "source": [
    "Now, lets create some attacks between these arguments:"
   ]
  },
  {
   "cell_type": "code",
   "execution_count": 3,
   "metadata": {
    "collapsed": true
   },
   "outputs": [],
   "source": [
    "example.add_attack(('a','b'))\n",
    "example.add_attack(('b','c'))\n",
    "# Attacks can also be passed as a list or a tuple \n",
    "# by using the optional parameter 'atts'\n",
    "# e.g: example.add_attack(atts=[('a', 'b'), ('b', 'c')])  "
   ]
  },
  {
   "cell_type": "markdown",
   "metadata": {},
   "source": [
    "We have created an Argumentation Framework called example which contains three arguments and two attacks.  For a string representation of the Framework, simply call print on it:"
   ]
  },
  {
   "cell_type": "code",
   "execution_count": 4,
   "metadata": {
    "collapsed": false
   },
   "outputs": [
    {
     "name": "stdout",
     "output_type": "stream",
     "text": [
      "ArgumentationFramework 'Example' : {'a' : ['b'], 'c' : [], 'b' : ['c']}\n"
     ]
    }
   ],
   "source": [
    "print example"
   ]
  },
  {
   "cell_type": "markdown",
   "metadata": {},
   "source": [
    "Argument objects belonging to a framework can be referenced by name like so:"
   ]
  },
  {
   "cell_type": "code",
   "execution_count": 5,
   "metadata": {
    "collapsed": false
   },
   "outputs": [
    {
     "name": "stdout",
     "output_type": "stream",
     "text": [
      "Argument 'a' : ['b']\n"
     ]
    }
   ],
   "source": [
    "arga = example['a']\n",
    "print arga"
   ]
  },
  {
   "cell_type": "markdown",
   "metadata": {},
   "source": [
    "ALIAS utilises NetworkX's drawing library to provide visual representations of Argumentation Frameworks.  Lets draw our AF 'example' using the `draw_framework()` function:"
   ]
  },
  {
   "cell_type": "code",
   "execution_count": 6,
   "metadata": {
    "collapsed": false
   },
   "outputs": [
    {
     "data": {
      "image/png": "[encoded data removed]",
      "text/plain": [
       "<matplotlib.figure.Figure at 0x107ad9910>"
      ]
     },
     "metadata": {},
     "output_type": "display_data"
    }
   ],
   "source": [
    "# Creating drawings requires \n",
    "# matplotlib and NetworkX (NetworkX is imported by ALIAS internally)\n",
    "%matplotlib inline\n",
    "\n",
    "import matplotlib\n",
    "import numpy as np\n",
    "import matplotlib.pyplot as plt\n",
    "\n",
    "# Call ALIAS' drawing facility on our AF\n",
    "al.draw_framework(example)"
   ]
  },
  {
   "cell_type": "markdown",
   "metadata": {},
   "source": [
    "Lets apply a labelling to our AF.  We can use ALIAS' built-in `generate_all_in()` function to generate an \"All-In labelling\" for our framework."
   ]
  },
  {
   "cell_type": "code",
   "execution_count": 7,
   "metadata": {
    "collapsed": false
   },
   "outputs": [
    {
     "name": "stdout",
     "output_type": "stream",
     "text": [
      "Labelling 'All-In' : {in : ['a', 'c', 'b'] out : [] undecided : [] undefined : []}\n",
      "Labelling 'All-In' : {in : ['a', 'c', 'b'] out : [] undecided : [] undefined : ['d']}\n",
      "Labelling 'All-In' : {in : ['a', 'c', 'b'] out : [] undecided : [] undefined : []}\n"
     ]
    }
   ],
   "source": [
    "# Call the generate_all_in() function on the example AF\n",
    "allin = example.generate_all_in()\n",
    "print allin\n",
    "# Labellings are updated dynamically when the AF is updated\n",
    "example.add_argument('d')\n",
    "print allin\n",
    "example.remove_argument('d')\n",
    "print allin"
   ]
  },
  {
   "cell_type": "markdown",
   "metadata": {},
   "source": [
    "`draw_framework()` can also take a labelling as an argument to colour code the arguments in the representation:"
   ]
  },
  {
   "cell_type": "code",
   "execution_count": 8,
   "metadata": {
    "collapsed": false
   },
   "outputs": [
    {
     "data": {
      "image/png": "[encoded data removed]",
      "text/plain": [
       "<matplotlib.figure.Figure at 0x105d02190>"
      ]
     },
     "metadata": {},
     "output_type": "display_data"
    }
   ],
   "source": [
    "al.draw_framework(example, labelling=allin)"
   ]
  },
  {
   "cell_type": "markdown",
   "metadata": {},
   "source": [
    "Lets apply some semantics to our AF.  ALIAS can handle both extension-based and labelling-based semantics."
   ]
  },
  {
   "cell_type": "code",
   "execution_count": null,
   "metadata": {
    "collapsed": true
   },
   "outputs": [],
   "source": []
  }
 ],
 "metadata": {
  "kernelspec": {
   "display_name": "Python 2",
   "language": "python",
   "name": "python2"
  },
  "language_info": {
   "codemirror_mode": {
    "name": "ipython",
    "version": 2
   },
   "file_extension": ".py",
   "mimetype": "text/x-python",
   "name": "python",
   "nbconvert_exporter": "python",
   "pygments_lexer": "ipython2",
   "version": "2.7.10"
  }
 },
 "nbformat": 4,
 "nbformat_minor": 0
}
